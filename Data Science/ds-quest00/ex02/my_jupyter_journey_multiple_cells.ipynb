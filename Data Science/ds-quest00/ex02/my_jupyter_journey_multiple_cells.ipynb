{
 "cells": [
  {
   "cell_type": "code",
   "execution_count": 3,
   "id": "22bca52e-04b6-4dec-9911-938fd6e8954e",
   "metadata": {},
   "outputs": [
    {
     "name": "stdout",
     "output_type": "stream",
     "text": [
      "Cell1\n"
     ]
    }
   ],
   "source": [
    "print(\"Cell1\")"
   ]
  },
  {
   "cell_type": "code",
   "execution_count": 4,
   "id": "6954e715-3cb7-4e16-ba3e-682236aeac3a",
   "metadata": {},
   "outputs": [
    {
     "name": "stdout",
     "output_type": "stream",
     "text": [
      "Cell2\n"
     ]
    }
   ],
   "source": [
    "print(\"Cell2\")"
   ]
  },
  {
   "cell_type": "code",
   "execution_count": 5,
   "id": "7d09038c-6429-4bea-9103-2b5b50831c55",
   "metadata": {},
   "outputs": [
    {
     "name": "stdout",
     "output_type": "stream",
     "text": [
      "Cell3\n"
     ]
    }
   ],
   "source": [
    "print(\"Cell3\")"
   ]
  },
  {
   "cell_type": "code",
   "execution_count": null,
   "id": "196e6bbc-3333-48ad-a5a1-3dfcc970d5e2",
   "metadata": {},
   "outputs": [],
   "source": []
  }
 ],
 "metadata": {
  "kernelspec": {
   "display_name": "Python 3",
   "language": "python",
   "name": "python3"
  },
  "language_info": {
   "codemirror_mode": {
    "name": "ipython",
    "version": 3
   },
   "file_extension": ".py",
   "mimetype": "text/x-python",
   "name": "python",
   "nbconvert_exporter": "python",
   "pygments_lexer": "ipython3",
   "version": "3.6.7"
  }
 },
 "nbformat": 4,
 "nbformat_minor": 5
}
